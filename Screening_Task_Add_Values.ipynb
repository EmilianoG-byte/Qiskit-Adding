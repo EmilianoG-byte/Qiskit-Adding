{
 "cells": [
  {
   "cell_type": "code",
   "execution_count": 8,
   "id": "551a1a10",
   "metadata": {},
   "outputs": [],
   "source": [
    "\n",
    "#initialization\n",
    "import matplotlib.pyplot as plt\n",
    "import numpy as np\n",
    "from numpy import pi\n",
    "\n",
    "# importing Qiskit\n",
    "from qiskit import IBMQ, Aer, assemble, transpile, BasicAer, execute\n",
    "from qiskit import QuantumCircuit, ClassicalRegister, QuantumRegister\n",
    "from qiskit.providers.ibmq import least_busy\n",
    "\n",
    "\n",
    "# import basic plot tools\n",
    "from qiskit.visualization import plot_histogram, plot_bloch_multivector\n",
    "from qiskit.tools.monitor import job_monitor"
   ]
  },
  {
   "cell_type": "markdown",
   "id": "4f507f48",
   "metadata": {},
   "source": [
    "## Problem: \n",
    "\n",
    "Create a circuit that output the combinations of elements from [ 5, 6, 7, 8, 9, 1] that add up to 16\n"
   ]
  },
  {
   "cell_type": "markdown",
   "id": "f9a4ad31",
   "metadata": {},
   "source": [
    "## QFT/IQFT"
   ]
  },
  {
   "cell_type": "code",
   "execution_count": 9,
   "id": "16dc0a6f",
   "metadata": {},
   "outputs": [],
   "source": [
    "#This part contains the necessary functions for implementing QFT and IQFT\n",
    "\n",
    "def qft_rotations(circuit, n):\n",
    "    \"\"\"Performs qft on the first n qubits in circuit (without swaps)\"\"\"\n",
    "    if n == 0:\n",
    "        return circuit\n",
    "    n -= 1\n",
    "    circuit.h(n)\n",
    "    for qubit in range(n):\n",
    "        circuit.cp(pi/2**(n-qubit), qubit, n)\n",
    "    # At the end of our function, we call the same function again on\n",
    "    # the next qubits (we reduced n by one earlier in the function)\n",
    "    qft_rotations(circuit, n)\n",
    "\n",
    "def swap_registers(circuit, n):\n",
    "    \"\"\" Swaps the qubits as the order is inverted\"\"\"\n",
    "    for qubit in range(n//2):\n",
    "        circuit.swap(qubit, n-qubit-1)\n",
    "    return circuit\n",
    "\n",
    "def qft(circuit, n):\n",
    "    \"\"\"QFT on the first n qubits in circuit\"\"\"\n",
    "    qft_rotations(circuit, n)\n",
    "    swap_registers(circuit, n)\n",
    "    return circuit\n",
    "\n",
    "\n",
    "def inverse_qft(circuit, n):\n",
    "    \"\"\"Does the inverse QFT on the first n qubits in circuit\"\"\"\n",
    "    # First we create a QFT circuit of the correct size:\n",
    "    qft_circ = qft(QuantumCircuit(n), n)\n",
    "    # Then we take the inverse of this circuit\n",
    "    invqft_circ = qft_circ.inverse()\n",
    "    # And add it to the first n qubits in our existing circuit\n",
    "    circuit.append(invqft_circ, circuit.qubits[:n])\n",
    "    return circuit.decompose() # .decompose() allows us to see the individual gates"
   ]
  },
  {
   "cell_type": "code",
   "execution_count": 10,
   "id": "3fda6d15",
   "metadata": {},
   "outputs": [],
   "source": [
    "# Sub-circuit for QFT-gate\n",
    "nqubits = 5\n",
    "sub1 = QuantumCircuit(nqubits,name='qft')\n",
    "qft(sub1,nqubits)\n",
    "qft_gate = sub1.to_instruction()\n",
    "\n",
    "#Sub-cricuit for IQFT-gate\n",
    "sub2 = QuantumCircuit(nqubits,name='iqft')\n",
    "sub2 = inverse_qft(sub2, nqubits)\n",
    "iqft_gate = sub2.to_instruction()"
   ]
  },
  {
   "cell_type": "markdown",
   "id": "1e67d536",
   "metadata": {},
   "source": [
    "## Grover"
   ]
  },
  {
   "cell_type": "code",
   "execution_count": 11,
   "id": "1e13b5b0",
   "metadata": {},
   "outputs": [
    {
     "data": {
      "text/html": [
       "<pre style=\"word-wrap: normal;white-space: pre;background: #fff0;line-height: 1.1;font-family: &quot;Courier New&quot;,Courier,monospace\">     ┌───┐       ┌───┐\n",
       "q_0: ┤ X ├─■─────┤ X ├\n",
       "     └───┘ │     └───┘\n",
       "q_1: ──────■──────────\n",
       "           │          \n",
       "q_2: ──────■──────────\n",
       "     ┌───┐ │     ┌───┐\n",
       "q_3: ┤ X ├─■─────┤ X ├\n",
       "     └───┘ │     └───┘\n",
       "q_4: ──────■──────────\n",
       "           │P(π)      \n",
       "q_5: ──────■──────────\n",
       "                      </pre>"
      ],
      "text/plain": [
       "     ┌───┐       ┌───┐\n",
       "q_0: ┤ X ├─■─────┤ X ├\n",
       "     └───┘ │     └───┘\n",
       "q_1: ──────■──────────\n",
       "           │          \n",
       "q_2: ──────■──────────\n",
       "     ┌───┐ │     ┌───┐\n",
       "q_3: ┤ X ├─■─────┤ X ├\n",
       "     └───┘ │     └───┘\n",
       "q_4: ──────■──────────\n",
       "           │P(π)      \n",
       "q_5: ──────■──────────\n",
       "                      "
      ]
     },
     "execution_count": 11,
     "metadata": {},
     "output_type": "execute_result"
    }
   ],
   "source": [
    "#Verifies if input qubits are in state [0,1,1,0,1]\n",
    "\n",
    "grover1 = QuantumCircuit(6, name='oracle_1')\n",
    "\n",
    "grover1.x(0)\n",
    "grover1.x(3)\n",
    "grover1.mcp(pi,[0,1,2,3,4],5)\n",
    "grover1.x(0)\n",
    "grover1.x(3)\n",
    "\n",
    "controlled1 = grover1.to_instruction()\n",
    "grover1.draw()"
   ]
  },
  {
   "cell_type": "code",
   "execution_count": 12,
   "id": "4708889b",
   "metadata": {},
   "outputs": [
    {
     "data": {
      "text/html": [
       "<pre style=\"word-wrap: normal;white-space: pre;background: #fff0;line-height: 1.1;font-family: &quot;Courier New&quot;,Courier,monospace\">     ┌───┐       ┌───┐\n",
       "q_0: ┤ X ├─■─────┤ X ├\n",
       "     └───┘ │     └───┘\n",
       "q_1: ──────■──────────\n",
       "     ┌───┐ │     ┌───┐\n",
       "q_2: ┤ X ├─■─────┤ X ├\n",
       "     └───┘ │     └───┘\n",
       "q_3: ──────■──────────\n",
       "     ┌───┐ │     ┌───┐\n",
       "q_4: ┤ X ├─■─────┤ X ├\n",
       "     └───┘ │P(π) └───┘\n",
       "q_5: ──────■──────────\n",
       "                      </pre>"
      ],
      "text/plain": [
       "     ┌───┐       ┌───┐\n",
       "q_0: ┤ X ├─■─────┤ X ├\n",
       "     └───┘ │     └───┘\n",
       "q_1: ──────■──────────\n",
       "     ┌───┐ │     ┌───┐\n",
       "q_2: ┤ X ├─■─────┤ X ├\n",
       "     └───┘ │     └───┘\n",
       "q_3: ──────■──────────\n",
       "     ┌───┐ │     ┌───┐\n",
       "q_4: ┤ X ├─■─────┤ X ├\n",
       "     └───┘ │P(π) └───┘\n",
       "q_5: ──────■──────────\n",
       "                      "
      ]
     },
     "execution_count": 12,
     "metadata": {},
     "output_type": "execute_result"
    }
   ],
   "source": [
    "#Verifies if input qubits are in state [0,1,0,1,0]\n",
    "\n",
    "grover2 = QuantumCircuit(6, name='oracle_1')\n",
    "\n",
    "grover2.x(0)\n",
    "grover2.x(2)\n",
    "grover2.x(4)\n",
    "grover2.mcp(pi,[0,1,2,3,4],5)\n",
    "grover2.x(0)\n",
    "grover2.x(2)\n",
    "grover2.x(4)\n",
    "\n",
    "controlled = grover2.to_instruction()\n",
    "grover2.draw()"
   ]
  },
  {
   "cell_type": "code",
   "execution_count": 13,
   "id": "d17d47ae",
   "metadata": {},
   "outputs": [
    {
     "data": {
      "text/html": [
       "<pre style=\"word-wrap: normal;white-space: pre;background: #fff0;line-height: 1.1;font-family: &quot;Courier New&quot;,Courier,monospace\">     ┌───┐     ┌───┐\n",
       "q_0: ┤ X ├──■──┤ X ├\n",
       "     ├───┤  │  ├───┤\n",
       "q_1: ┤ X ├──■──┤ X ├\n",
       "     ├───┤  │  ├───┤\n",
       "q_2: ┤ X ├──■──┤ X ├\n",
       "     ├───┤  │  ├───┤\n",
       "q_3: ┤ X ├──■──┤ X ├\n",
       "     └───┘  │  └───┘\n",
       "q_4: ───────■───────\n",
       "          ┌─┴─┐     \n",
       "q_5: ─────┤ X ├─────\n",
       "          └───┘     </pre>"
      ],
      "text/plain": [
       "     ┌───┐     ┌───┐\n",
       "q_0: ┤ X ├──■──┤ X ├\n",
       "     ├───┤  │  ├───┤\n",
       "q_1: ┤ X ├──■──┤ X ├\n",
       "     ├───┤  │  ├───┤\n",
       "q_2: ┤ X ├──■──┤ X ├\n",
       "     ├───┤  │  ├───┤\n",
       "q_3: ┤ X ├──■──┤ X ├\n",
       "     └───┘  │  └───┘\n",
       "q_4: ───────■───────\n",
       "          ┌─┴─┐     \n",
       "q_5: ─────┤ X ├─────\n",
       "          └───┘     "
      ]
     },
     "execution_count": 13,
     "metadata": {},
     "output_type": "execute_result"
    }
   ],
   "source": [
    "# Gate that checks the result obtained after the IQFT. Shits the controlled qubit if value is 16 == [0,0,0,0,1] (big endian)\n",
    "\n",
    "grover3 = QuantumCircuit(6, name='checking')\n",
    "\n",
    "grover3.x(0)\n",
    "grover3.x(1)\n",
    "grover3.x(2)\n",
    "grover3.x(3)\n",
    "grover3.mct([0,1,2,3,4],5)\n",
    "grover3.x(0)\n",
    "grover3.x(1)\n",
    "grover3.x(2)\n",
    "grover3.x(3)\n",
    "\n",
    "controlled_anc = grover3.to_instruction()\n",
    "grover3.draw()"
   ]
  },
  {
   "cell_type": "code",
   "execution_count": 14,
   "id": "2fc96b31",
   "metadata": {},
   "outputs": [],
   "source": [
    "def initialize_s(qc, qubits):\n",
    "    \"\"\"Apply a H-gate to 'qubits' in qc\"\"\"\n",
    "    for q in qubits:\n",
    "        qc.h(q)\n",
    "    return qc\n",
    "\n",
    "\n",
    "\n",
    "def oracle(grover):\n",
    "    \n",
    "    \"\"\"First Part of Grover's iteration. Oracle marks with a minus sign the solution states. Equivalent to reflexion around states that are not solution\"\"\"\n",
    "    \n",
    "    #Oracle implementation\n",
    "    \n",
    "    grover.append(qft_gate, [5,6,7,8,9])\n",
    "\n",
    "    grover.append(controlled1, [0,1,2,3,4,5])\n",
    "    \n",
    "    grover.append(controlled, [0,1,2,3,4,5])\n",
    "\n",
    "    grover.append(iqft_gate, [5,6,7,8,9])\n",
    "\n",
    "    grover.append(controlled_anc, [5,6,7,8,9,10])\n",
    "\n",
    "    #uncomputing oracle to return ancilla qubits to |00000> state for its use in grover's iteration\n",
    "    \n",
    "    grover.append(iqft_gate, [5,6,7,8,9])\n",
    "\n",
    "    grover.append(controlled, [0,1,2,3,4,5])\n",
    "    \n",
    "    grover.append(controlled1, [0,1,2,3,4,5])\n",
    "\n",
    "    grover.append(qft_gate, [5,6,7,8,9])\n",
    "    \n",
    "def diffuser(nqubits):\n",
    "    \n",
    "    \"Second part of Grover's algorithm. Performs reflection around equally weighted superposition of states\"\n",
    "    \n",
    "    qc = QuantumCircuit(nqubits)\n",
    "    # Apply transformation |s> -> |00..0> (H-gates)\n",
    "    for qubit in range(nqubits):\n",
    "        qc.h(qubit)\n",
    "    # Apply transformation |00..0> -> |11..1> (X-gates)\n",
    "    for qubit in range(nqubits):\n",
    "        qc.x(qubit)\n",
    "    # Do multi-controlled-Z gate\n",
    "    qc.h(nqubits-1)\n",
    "    qc.mct(list(range(nqubits-1)), nqubits-1)  # multi-controlled-toffoli\n",
    "    qc.h(nqubits-1)\n",
    "    # Apply transformation |11..1> -> |00..0>\n",
    "    for qubit in range(nqubits):\n",
    "        qc.x(qubit)\n",
    "    # Apply transformation |00..0> -> |s>\n",
    "    for qubit in range(nqubits):\n",
    "        qc.h(qubit)\n",
    "    # We will return the diffuser as a gate\n",
    "    U_s = qc.to_gate()\n",
    "    U_s.name = \"U$_s$\"\n",
    "    return U_s"
   ]
  },
  {
   "cell_type": "markdown",
   "id": "aded60b6",
   "metadata": {},
   "source": [
    "## Computations"
   ]
  },
  {
   "cell_type": "code",
   "execution_count": 19,
   "id": "55a6971e",
   "metadata": {},
   "outputs": [
    {
     "data": {
      "text/html": [
       "<pre style=\"word-wrap: normal;white-space: pre;background: #fff0;line-height: 1.1;font-family: &quot;Courier New&quot;,Courier,monospace\">                      ┌───┐               ░         ┌───────────┐┌───────────┐                               ┌───────────┐┌───────────┐         ░ ┌────────┐┌───────────┐┌───────────┐                               ┌───────────┐┌───────────┐         ░ ┌────────┐┌───────────┐┌───────────┐                               ┌───────────┐┌───────────┐         ░ ┌────────┐┌─┐            \n",
       "    a_0: ─────────────┤ H ├───────────────░─────────┤0          ├┤0          ├───────────────────────────────┤0          ├┤0          ├─────────░─┤0       ├┤0          ├┤0          ├───────────────────────────────┤0          ├┤0          ├─────────░─┤0       ├┤0          ├┤0          ├───────────────────────────────┤0          ├┤0          ├─────────░─┤0       ├┤M├────────────\n",
       "                      ├───┤               ░         │           ││           │                               │           ││           │         ░ │        ││           ││           │                               │           ││           │         ░ │        ││           ││           │                               │           ││           │         ░ │        │└╥┘┌─┐         \n",
       "    a_1: ─────────────┤ H ├───────────────░─────────┤1          ├┤1          ├───────────────────────────────┤1          ├┤1          ├─────────░─┤1       ├┤1          ├┤1          ├───────────────────────────────┤1          ├┤1          ├─────────░─┤1       ├┤1          ├┤1          ├───────────────────────────────┤1          ├┤1          ├─────────░─┤1       ├─╫─┤M├─────────\n",
       "                      ├───┤               ░         │           ││           │                               │           ││           │         ░ │        ││           ││           │                               │           ││           │         ░ │        ││           ││           │                               │           ││           │         ░ │        │ ║ └╥┘┌─┐      \n",
       "    a_2: ─────────────┤ H ├───────────────░─────────┤2          ├┤2          ├───────────────────────────────┤2          ├┤2          ├─────────░─┤2 U$_s$ ├┤2          ├┤2          ├───────────────────────────────┤2          ├┤2          ├─────────░─┤2 U$_s$ ├┤2          ├┤2          ├───────────────────────────────┤2          ├┤2          ├─────────░─┤2 U$_s$ ├─╫──╫─┤M├──────\n",
       "                      ├───┤               ░         │  oracle_1 ││  oracle_1 │                               │  oracle_1 ││  oracle_1 │         ░ │        ││  oracle_1 ││  oracle_1 │                               │  oracle_1 ││  oracle_1 │         ░ │        ││  oracle_1 ││  oracle_1 │                               │  oracle_1 ││  oracle_1 │         ░ │        │ ║  ║ └╥┘┌─┐   \n",
       "    a_3: ─────────────┤ H ├───────────────░─────────┤3          ├┤3          ├───────────────────────────────┤3          ├┤3          ├─────────░─┤3       ├┤3          ├┤3          ├───────────────────────────────┤3          ├┤3          ├─────────░─┤3       ├┤3          ├┤3          ├───────────────────────────────┤3          ├┤3          ├─────────░─┤3       ├─╫──╫──╫─┤M├───\n",
       "                      ├───┤               ░         │           ││           │                               │           ││           │         ░ │        ││           ││           │                               │           ││           │         ░ │        ││           ││           │                               │           ││           │         ░ │        │ ║  ║  ║ └╥┘┌─┐\n",
       "    a_4: ─────────────┤ H ├───────────────░─────────┤4          ├┤4          ├───────────────────────────────┤4          ├┤4          ├─────────░─┤4       ├┤4          ├┤4          ├───────────────────────────────┤4          ├┤4          ├─────────░─┤4       ├┤4          ├┤4          ├───────────────────────────────┤4          ├┤4          ├─────────░─┤4       ├─╫──╫──╫──╫─┤M├\n",
       "                      └───┘               ░ ┌──────┐│           ││           │┌───────┐┌───────────┐┌───────┐│           ││           │┌──────┐ ░ └┬──────┬┘│           ││           │┌───────┐┌───────────┐┌───────┐│           ││           │┌──────┐ ░ └┬──────┬┘│           ││           │┌───────┐┌───────────┐┌───────┐│           ││           │┌──────┐ ░ └────────┘ ║  ║  ║  ║ └╥┘\n",
       "    b_0: ─────────────────────────────────░─┤0     ├┤5          ├┤5          ├┤0      ├┤0          ├┤0      ├┤5          ├┤5          ├┤0     ├─░──┤0     ├─┤5          ├┤5          ├┤0      ├┤0          ├┤0      ├┤5          ├┤5          ├┤0     ├─░──┤0     ├─┤5          ├┤5          ├┤0      ├┤0          ├┤0      ├┤5          ├┤5          ├┤0     ├─░────────────╫──╫──╫──╫──╫─\n",
       "                                          ░ │      │└───────────┘└───────────┘│       ││           ││       │└───────────┘└───────────┘│      │ ░  │      │ └───────────┘└───────────┘│       ││           ││       │└───────────┘└───────────┘│      │ ░  │      │ └───────────┘└───────────┘│       ││           ││       │└───────────┘└───────────┘│      │ ░            ║  ║  ║  ║  ║ \n",
       "    b_1: ─────────────────────────────────░─┤1     ├──────────────────────────┤1      ├┤1          ├┤1      ├──────────────────────────┤1     ├─░──┤1     ├───────────────────────────┤1      ├┤1          ├┤1      ├──────────────────────────┤1     ├─░──┤1     ├───────────────────────────┤1      ├┤1          ├┤1      ├──────────────────────────┤1     ├─░────────────╫──╫──╫──╫──╫─\n",
       "                                          ░ │      │                          │       ││           ││       │                          │      │ ░  │      │                           │       ││           ││       │                          │      │ ░  │      │                           │       ││           ││       │                          │      │ ░            ║  ║  ║  ║  ║ \n",
       "    b_2: ─────────────────────────────────░─┤2 qft ├──────────────────────────┤2 iqft ├┤2          ├┤2 iqft ├──────────────────────────┤2 qft ├─░──┤2 qft ├───────────────────────────┤2 iqft ├┤2          ├┤2 iqft ├──────────────────────────┤2 qft ├─░──┤2 qft ├───────────────────────────┤2 iqft ├┤2          ├┤2 iqft ├──────────────────────────┤2 qft ├─░────────────╫──╫──╫──╫──╫─\n",
       "                                          ░ │      │                          │       ││  checking ││       │                          │      │ ░  │      │                           │       ││  checking ││       │                          │      │ ░  │      │                           │       ││  checking ││       │                          │      │ ░            ║  ║  ║  ║  ║ \n",
       "    b_3: ─────────────────────────────────░─┤3     ├──────────────────────────┤3      ├┤3          ├┤3      ├──────────────────────────┤3     ├─░──┤3     ├───────────────────────────┤3      ├┤3          ├┤3      ├──────────────────────────┤3     ├─░──┤3     ├───────────────────────────┤3      ├┤3          ├┤3      ├──────────────────────────┤3     ├─░────────────╫──╫──╫──╫──╫─\n",
       "                                          ░ │      │                          │       ││           ││       │                          │      │ ░  │      │                           │       ││           ││       │                          │      │ ░  │      │                           │       ││           ││       │                          │      │ ░            ║  ║  ║  ║  ║ \n",
       "    b_4: ─────────────────────────────────░─┤4     ├──────────────────────────┤4      ├┤4          ├┤4      ├──────────────────────────┤4     ├─░──┤4     ├───────────────────────────┤4      ├┤4          ├┤4      ├──────────────────────────┤4     ├─░──┤4     ├───────────────────────────┤4      ├┤4          ├┤4      ├──────────────────────────┤4     ├─░────────────╫──╫──╫──╫──╫─\n",
       "         ┌──────────────────────────────┐ ░ └──────┘                          └───────┘│           │└───────┘                          └──────┘ ░  └──────┘                           └───────┘│           │└───────┘                          └──────┘ ░  └──────┘                           └───────┘│           │└───────┘                          └──────┘ ░            ║  ║  ║  ║  ║ \n",
       "    out: ┤ Initialize(0.70711,-0.70711) ├─░────────────────────────────────────────────┤5          ├────────────────────────────────────────────░──────────────────────────────────────────────┤5          ├────────────────────────────────────────────░──────────────────────────────────────────────┤5          ├────────────────────────────────────────────░────────────╫──╫──╫──╫──╫─\n",
       "         └──────────────────────────────┘ ░                                            └───────────┘                                            ░                                              └───────────┘                                            ░                                              └───────────┘                                            ░            ║  ║  ║  ║  ║ \n",
       "cbits: 5/════════════════════════════════════════════════════════════════════════════════════════════════════════════════════════════════════════════════════════════════════════════════════════════════════════════════════════════════════════════════════════════════════════════════════════════════════════════════════════════════════════════════════════════════════╩══╩══╩══╩══╩═\n",
       "                                                                                                                                                                                                                                                                                                                                                                             0  1  2  3  4 </pre>"
      ],
      "text/plain": [
       "                      ┌───┐               ░         ┌───────────┐┌───────────┐                               ┌───────────┐┌───────────┐         ░ ┌────────┐┌───────────┐┌───────────┐                               ┌───────────┐┌───────────┐         ░ ┌────────┐┌───────────┐┌───────────┐                               ┌───────────┐┌───────────┐         ░ ┌────────┐┌─┐            \n",
       "    a_0: ─────────────┤ H ├───────────────░─────────┤0          ├┤0          ├───────────────────────────────┤0          ├┤0          ├─────────░─┤0       ├┤0          ├┤0          ├───────────────────────────────┤0          ├┤0          ├─────────░─┤0       ├┤0          ├┤0          ├───────────────────────────────┤0          ├┤0          ├─────────░─┤0       ├┤M├────────────\n",
       "                      ├───┤               ░         │           ││           │                               │           ││           │         ░ │        ││           ││           │                               │           ││           │         ░ │        ││           ││           │                               │           ││           │         ░ │        │└╥┘┌─┐         \n",
       "    a_1: ─────────────┤ H ├───────────────░─────────┤1          ├┤1          ├───────────────────────────────┤1          ├┤1          ├─────────░─┤1       ├┤1          ├┤1          ├───────────────────────────────┤1          ├┤1          ├─────────░─┤1       ├┤1          ├┤1          ├───────────────────────────────┤1          ├┤1          ├─────────░─┤1       ├─╫─┤M├─────────\n",
       "                      ├───┤               ░         │           ││           │                               │           ││           │         ░ │        ││           ││           │                               │           ││           │         ░ │        ││           ││           │                               │           ││           │         ░ │        │ ║ └╥┘┌─┐      \n",
       "    a_2: ─────────────┤ H ├───────────────░─────────┤2          ├┤2          ├───────────────────────────────┤2          ├┤2          ├─────────░─┤2 U$_s$ ├┤2          ├┤2          ├───────────────────────────────┤2          ├┤2          ├─────────░─┤2 U$_s$ ├┤2          ├┤2          ├───────────────────────────────┤2          ├┤2          ├─────────░─┤2 U$_s$ ├─╫──╫─┤M├──────\n",
       "                      ├───┤               ░         │  oracle_1 ││  oracle_1 │                               │  oracle_1 ││  oracle_1 │         ░ │        ││  oracle_1 ││  oracle_1 │                               │  oracle_1 ││  oracle_1 │         ░ │        ││  oracle_1 ││  oracle_1 │                               │  oracle_1 ││  oracle_1 │         ░ │        │ ║  ║ └╥┘┌─┐   \n",
       "    a_3: ─────────────┤ H ├───────────────░─────────┤3          ├┤3          ├───────────────────────────────┤3          ├┤3          ├─────────░─┤3       ├┤3          ├┤3          ├───────────────────────────────┤3          ├┤3          ├─────────░─┤3       ├┤3          ├┤3          ├───────────────────────────────┤3          ├┤3          ├─────────░─┤3       ├─╫──╫──╫─┤M├───\n",
       "                      ├───┤               ░         │           ││           │                               │           ││           │         ░ │        ││           ││           │                               │           ││           │         ░ │        ││           ││           │                               │           ││           │         ░ │        │ ║  ║  ║ └╥┘┌─┐\n",
       "    a_4: ─────────────┤ H ├───────────────░─────────┤4          ├┤4          ├───────────────────────────────┤4          ├┤4          ├─────────░─┤4       ├┤4          ├┤4          ├───────────────────────────────┤4          ├┤4          ├─────────░─┤4       ├┤4          ├┤4          ├───────────────────────────────┤4          ├┤4          ├─────────░─┤4       ├─╫──╫──╫──╫─┤M├\n",
       "                      └───┘               ░ ┌──────┐│           ││           │┌───────┐┌───────────┐┌───────┐│           ││           │┌──────┐ ░ └┬──────┬┘│           ││           │┌───────┐┌───────────┐┌───────┐│           ││           │┌──────┐ ░ └┬──────┬┘│           ││           │┌───────┐┌───────────┐┌───────┐│           ││           │┌──────┐ ░ └────────┘ ║  ║  ║  ║ └╥┘\n",
       "    b_0: ─────────────────────────────────░─┤0     ├┤5          ├┤5          ├┤0      ├┤0          ├┤0      ├┤5          ├┤5          ├┤0     ├─░──┤0     ├─┤5          ├┤5          ├┤0      ├┤0          ├┤0      ├┤5          ├┤5          ├┤0     ├─░──┤0     ├─┤5          ├┤5          ├┤0      ├┤0          ├┤0      ├┤5          ├┤5          ├┤0     ├─░────────────╫──╫──╫──╫──╫─\n",
       "                                          ░ │      │└───────────┘└───────────┘│       ││           ││       │└───────────┘└───────────┘│      │ ░  │      │ └───────────┘└───────────┘│       ││           ││       │└───────────┘└───────────┘│      │ ░  │      │ └───────────┘└───────────┘│       ││           ││       │└───────────┘└───────────┘│      │ ░            ║  ║  ║  ║  ║ \n",
       "    b_1: ─────────────────────────────────░─┤1     ├──────────────────────────┤1      ├┤1          ├┤1      ├──────────────────────────┤1     ├─░──┤1     ├───────────────────────────┤1      ├┤1          ├┤1      ├──────────────────────────┤1     ├─░──┤1     ├───────────────────────────┤1      ├┤1          ├┤1      ├──────────────────────────┤1     ├─░────────────╫──╫──╫──╫──╫─\n",
       "                                          ░ │      │                          │       ││           ││       │                          │      │ ░  │      │                           │       ││           ││       │                          │      │ ░  │      │                           │       ││           ││       │                          │      │ ░            ║  ║  ║  ║  ║ \n",
       "    b_2: ─────────────────────────────────░─┤2 qft ├──────────────────────────┤2 iqft ├┤2          ├┤2 iqft ├──────────────────────────┤2 qft ├─░──┤2 qft ├───────────────────────────┤2 iqft ├┤2          ├┤2 iqft ├──────────────────────────┤2 qft ├─░──┤2 qft ├───────────────────────────┤2 iqft ├┤2          ├┤2 iqft ├──────────────────────────┤2 qft ├─░────────────╫──╫──╫──╫──╫─\n",
       "                                          ░ │      │                          │       ││  checking ││       │                          │      │ ░  │      │                           │       ││  checking ││       │                          │      │ ░  │      │                           │       ││  checking ││       │                          │      │ ░            ║  ║  ║  ║  ║ \n",
       "    b_3: ─────────────────────────────────░─┤3     ├──────────────────────────┤3      ├┤3          ├┤3      ├──────────────────────────┤3     ├─░──┤3     ├───────────────────────────┤3      ├┤3          ├┤3      ├──────────────────────────┤3     ├─░──┤3     ├───────────────────────────┤3      ├┤3          ├┤3      ├──────────────────────────┤3     ├─░────────────╫──╫──╫──╫──╫─\n",
       "                                          ░ │      │                          │       ││           ││       │                          │      │ ░  │      │                           │       ││           ││       │                          │      │ ░  │      │                           │       ││           ││       │                          │      │ ░            ║  ║  ║  ║  ║ \n",
       "    b_4: ─────────────────────────────────░─┤4     ├──────────────────────────┤4      ├┤4          ├┤4      ├──────────────────────────┤4     ├─░──┤4     ├───────────────────────────┤4      ├┤4          ├┤4      ├──────────────────────────┤4     ├─░──┤4     ├───────────────────────────┤4      ├┤4          ├┤4      ├──────────────────────────┤4     ├─░────────────╫──╫──╫──╫──╫─\n",
       "         ┌──────────────────────────────┐ ░ └──────┘                          └───────┘│           │└───────┘                          └──────┘ ░  └──────┘                           └───────┘│           │└───────┘                          └──────┘ ░  └──────┘                           └───────┘│           │└───────┘                          └──────┘ ░            ║  ║  ║  ║  ║ \n",
       "    out: ┤ Initialize(0.70711,-0.70711) ├─░────────────────────────────────────────────┤5          ├────────────────────────────────────────────░──────────────────────────────────────────────┤5          ├────────────────────────────────────────────░──────────────────────────────────────────────┤5          ├────────────────────────────────────────────░────────────╫──╫──╫──╫──╫─\n",
       "         └──────────────────────────────┘ ░                                            └───────────┘                                            ░                                              └───────────┘                                            ░                                              └───────────┘                                            ░            ║  ║  ║  ║  ║ \n",
       "cbits: 5/════════════════════════════════════════════════════════════════════════════════════════════════════════════════════════════════════════════════════════════════════════════════════════════════════════════════════════════════════════════════════════════════════════════════════════════════════════════════════════════════════════════════════════════════════╩══╩══╩══╩══╩═\n",
       "                                                                                                                                                                                                                                                                                                                                                                             0  1  2  3  4 "
      ]
     },
     "execution_count": 19,
     "metadata": {},
     "output_type": "execute_result"
    }
   ],
   "source": [
    "arr = QuantumRegister(5,name='a')\n",
    "ancilla = QuantumRegister(5,name='b')\n",
    "out = QuantumRegister(1,name='out')\n",
    "cbits = ClassicalRegister(5, name='cbits')\n",
    "\n",
    "grover = QuantumCircuit(arr,ancilla,out,cbits)\n",
    "\n",
    "# Initialize 'out0' in state |->\n",
    "grover.initialize([1, -1]/np.sqrt(2), out)\n",
    "\n",
    "grover = initialize_s(grover, [0,1,2,3,4]) #initialize in equal superposition\n",
    "\n",
    "grover.barrier()  # for visual separation\n",
    "\n",
    "#number of iterations. The expected iterations needed to obtain at least one of the solutions is pi/4 * sqrt(N/M)\n",
    "#with N = 2^n, n = # of elements in array, M = # of solutions. Here M = 2 and N = 32 so r = pi\n",
    "\n",
    "r = 3\n",
    "\n",
    "\n",
    "for i in range(r):\n",
    "    oracle(grover)\n",
    "    grover.barrier()  # for visual separation\n",
    "    grover.append(diffuser(5), [0,1,2,3,4])\n",
    "\n",
    "\n",
    "# Measure the variable qubits\n",
    "grover.measure(arr, cbits)\n",
    "\n",
    "grover.draw(fold=-1)"
   ]
  },
  {
   "cell_type": "code",
   "execution_count": 20,
   "id": "e752dd71",
   "metadata": {},
   "outputs": [
    {
     "data": {
      "image/png": "[encoded data removed]",
      "text/plain": [
       "<Figure size 504x360 with 1 Axes>"
      ]
     },
     "execution_count": 20,
     "metadata": {},
     "output_type": "execute_result"
    }
   ],
   "source": [
    "backend = BasicAer.get_backend('qasm_simulator')\n",
    "job = execute(grover, backend)\n",
    "plot_histogram(job.result().get_counts(), color='midnightblue', title=\"Solutions to Grover Search \")"
   ]
  },
  {
   "cell_type": "markdown",
   "id": "7d42cec0",
   "metadata": {},
   "source": [
    "## Solution:\n",
    "\n",
    "The grover search correctly output the two solutions [01010] == [7,9] and [01101] == [7,8,1]\n",
    "\n",
    "In this case the solutions were easily calculated and thus the oracle was implemented in this very specific way. However, in a more general manner the way the oracle is implemented through controlled phase gates can be leveraged to perform this search generally for any input array of numbers and desired integer output. For this, as mentioned, the oracle would have to be updated."
   ]
  },
  {
   "cell_type": "markdown",
   "id": "73cba589",
   "metadata": {},
   "source": [
    "references:\n",
    "\n",
    "- Quantum Computation and Quantum Information, Michael A. Nielsen, Isaac L. Chuang, Massachusetts Institute of Technology, 2010\n",
    "- Addition on a Quantum Computer, Thomas G. Draper, June 15, 2000. (https://arxiv.org/pdf/quant-ph/0008033.pdf)\n",
    "- https://qiskit.org/textbook/ch-algorithms/grover.html#5.2-Uncomputing,-and-Completing-the-Oracle\n",
    "- https://qiskit.org/textbook/ch-algorithms/quantum-fourier-transform.html"
   ]
  },
  {
   "cell_type": "code",
   "execution_count": null,
   "id": "e3592670",
   "metadata": {},
   "outputs": [],
   "source": []
  }
 ],
 "metadata": {
  "kernelspec": {
   "display_name": "Python (QUANTUM_CODE)",
   "language": "python",
   "name": "quantum_code"
  },
  "language_info": {
   "codemirror_mode": {
    "name": "ipython",
    "version": 3
   },
   "file_extension": ".py",
   "mimetype": "text/x-python",
   "name": "python",
   "nbconvert_exporter": "python",
   "pygments_lexer": "ipython3",
   "version": "3.10.0"
  }
 },
 "nbformat": 4,
 "nbformat_minor": 5
}
