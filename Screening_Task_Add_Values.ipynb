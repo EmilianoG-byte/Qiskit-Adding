{
 "cells": [
  {
   "cell_type": "code",
   "execution_count": 1,
   "id": "642ce32b",
   "metadata": {},
   "outputs": [],
   "source": [
    "\n",
    "#initialization\n",
    "import matplotlib.pyplot as plt\n",
    "import numpy as np\n",
    "from numpy import pi\n",
    "\n",
    "# importing Qiskit\n",
    "from qiskit import IBMQ, Aer, assemble, transpile, BasicAer, execute\n",
    "from qiskit import QuantumCircuit, ClassicalRegister, QuantumRegister\n",
    "from qiskit.providers.ibmq import least_busy\n",
    "\n",
    "\n",
    "# import basic plot tools\n",
    "from qiskit.visualization import plot_histogram, plot_bloch_multivector\n",
    "from qiskit.tools.monitor import job_monitor"
   ]
  },
  {
   "cell_type": "markdown",
   "id": "e704c078",
   "metadata": {},
   "source": [
    "## Problem: \n",
    "\n",
    "Create a circuit that outputs the subsets containing combinations of elements from [ 5, 7, 8, 9, 1] that add up to 16\n"
   ]
  },
  {
   "cell_type": "markdown",
   "id": "53cd6561",
   "metadata": {},
   "source": [
    "## Brief explanation of code:\n",
    "\n",
    "I will map the vector [ 5, 7, 8, 9, 1] to a quantum register of length 5 in which a 1 means that the element is included in the final output as a solution.\n",
    "\n",
    "Example:\n",
    "[5,9,1] == [1,0,0,1,1]\n",
    "\n",
    "Then, I will use 5 ancilla qubits for the Grover's oracle since the bit representation of 16 is 10000. In our case, the verification will be done inverted for ease of implementation, i.e. I will verify that the values match to 00001 (see Grover section for better clarification).\n",
    "\n",
    "In addition, the grover's oracle will be implemented with a 6th qubit (oracle output) that will be initialized in the $|-\\rangle$ state to mark our solutions.\n",
    "\n",
    "The final output of our circuit after measuring the first 5 qubits in the computational basis will be the solutions to our problem in the bit format explained above. We expect to see:\n",
    "\n",
    "- [01010] == [7,9] and \n",
    "- [01101] == [7,8,1]\n",
    "\n",
    "\n",
    "**Note:** Qiskit uses an inverse notation, so in our graph we will have to read the answer from the bit closer to the graph to the farthest. "
   ]
  },
  {
   "cell_type": "markdown",
   "id": "b820fca2",
   "metadata": {},
   "source": [
    "## QFT/IQFT"
   ]
  },
  {
   "cell_type": "code",
   "execution_count": 2,
   "id": "f6c1a25d",
   "metadata": {},
   "outputs": [],
   "source": [
    "#This part contains the necessary functions for implementing QFT and IQFT\n",
    "\n",
    "def qft_rotations(circuit, n):\n",
    "    \"\"\"Applies the phase gate rotations according to qft (without swaps)\"\"\"\n",
    "    if n == 0:\n",
    "        return circuit\n",
    "    n -= 1\n",
    "    #hadarmard gate on the nth qubit\n",
    "    circuit.h(n)\n",
    "    for qubit in range(n):\n",
    "        #applies controlled phase gates\n",
    "        circuit.cp(pi/2**(n-qubit), qubit, n)\n",
    "    # At the end of our function, we call the same function again on\n",
    "    # the next qubits (we reduced n by one earlier in the function)\n",
    "    qft_rotations(circuit, n)\n",
    "\n",
    "def swap_registers(circuit, n):\n",
    "    \"\"\" Swaps the qubits as the order is inverted\"\"\"\n",
    "    for qubit in range(n//2):\n",
    "        circuit.swap(qubit, n-qubit-1)\n",
    "    return circuit\n",
    "\n",
    "def qft(circuit, n):\n",
    "    \"\"\"Applies QFT on the first n qubits in the circuit\"\"\"\n",
    "    qft_rotations(circuit, n)\n",
    "    swap_registers(circuit, n)\n",
    "    return circuit\n",
    "\n",
    "\n",
    "def inverse_qft(circuit, n):\n",
    "    \"\"\"Applies  inverse QFT (IQFT) on the first n qubits in the circuit\"\"\"\n",
    "    # First we create a QFT circuit of the correct size:\n",
    "    qft_circ = qft(QuantumCircuit(n), n)\n",
    "    # Then we take the inverse of this circuit to obtain: IQFT\n",
    "    invqft_circ = qft_circ.inverse()\n",
    "    # And add it to the first n qubits in our existing circuit\n",
    "    circuit.append(invqft_circ, circuit.qubits[:n])\n",
    "    return circuit.decompose() # .decompose() allows us to see the individual gates"
   ]
  },
  {
   "cell_type": "code",
   "execution_count": 3,
   "id": "59b39c6f",
   "metadata": {},
   "outputs": [],
   "source": [
    "# Sub-circuit for QFT-gate\n",
    "nqubits = 5 #length of input vector\n",
    "sub1 = QuantumCircuit(nqubits,name='qft')\n",
    "qft(sub1,nqubits)\n",
    "#create QFT gate\n",
    "qft_gate = sub1.to_instruction()\n",
    "\n",
    "#Sub-cricuit for IQFT-gate\n",
    "sub2 = QuantumCircuit(nqubits,name='iqft')\n",
    "sub2 = inverse_qft(sub2, nqubits)\n",
    "#create IQFT gate\n",
    "iqft_gate = sub2.to_instruction()"
   ]
  },
  {
   "cell_type": "markdown",
   "id": "8b304f21",
   "metadata": {},
   "source": [
    "## Grover"
   ]
  },
  {
   "cell_type": "code",
   "execution_count": 4,
   "id": "c908546b",
   "metadata": {},
   "outputs": [
    {
     "data": {
      "text/html": [
       "<pre style=\"word-wrap: normal;white-space: pre;background: #fff0;line-height: 1.1;font-family: &quot;Courier New&quot;,Courier,monospace\">     ┌───┐       ┌───┐\n",
       "q_0: ┤ X ├─■─────┤ X ├\n",
       "     └───┘ │     └───┘\n",
       "q_1: ──────■──────────\n",
       "           │          \n",
       "q_2: ──────■──────────\n",
       "     ┌───┐ │     ┌───┐\n",
       "q_3: ┤ X ├─■─────┤ X ├\n",
       "     └───┘ │     └───┘\n",
       "q_4: ──────■──────────\n",
       "           │P(π)      \n",
       "q_5: ──────■──────────\n",
       "                      </pre>"
      ],
      "text/plain": [
       "     ┌───┐       ┌───┐\n",
       "q_0: ┤ X ├─■─────┤ X ├\n",
       "     └───┘ │     └───┘\n",
       "q_1: ──────■──────────\n",
       "           │          \n",
       "q_2: ──────■──────────\n",
       "     ┌───┐ │     ┌───┐\n",
       "q_3: ┤ X ├─■─────┤ X ├\n",
       "     └───┘ │     └───┘\n",
       "q_4: ──────■──────────\n",
       "           │P(π)      \n",
       "q_5: ──────■──────────\n",
       "                      "
      ]
     },
     "execution_count": 4,
     "metadata": {},
     "output_type": "execute_result"
    }
   ],
   "source": [
    "#First solution: Verifies if input qubits are in state [0,1,1,0,1] == [7,8,1] \n",
    "#if so, applies a pi phase gate to the first ancilla qubit to obtain 00001 as output after the IQFT\n",
    "\n",
    "grover1 = QuantumCircuit(6, name='Solution_1') #1-5th qubit: correspond\n",
    "\n",
    "#Controlled qubits are switched to check for '0' instead of the usual '1' by applying an X gate.\n",
    "grover1.x(0)\n",
    "grover1.x(3)\n",
    "grover1.mcp(pi,[0,1,2,3,4],5)\n",
    "grover1.x(0)\n",
    "grover1.x(3)\n",
    "\n",
    "#create gate for checking this first solution\n",
    "controlled1 = grover1.to_instruction()\n",
    "grover1.draw()"
   ]
  },
  {
   "cell_type": "code",
   "execution_count": 5,
   "id": "0d2ef737",
   "metadata": {},
   "outputs": [
    {
     "data": {
      "text/html": [
       "<pre style=\"word-wrap: normal;white-space: pre;background: #fff0;line-height: 1.1;font-family: &quot;Courier New&quot;,Courier,monospace\">     ┌───┐       ┌───┐\n",
       "q_0: ┤ X ├─■─────┤ X ├\n",
       "     └───┘ │     └───┘\n",
       "q_1: ──────■──────────\n",
       "     ┌───┐ │     ┌───┐\n",
       "q_2: ┤ X ├─■─────┤ X ├\n",
       "     └───┘ │     └───┘\n",
       "q_3: ──────■──────────\n",
       "     ┌───┐ │     ┌───┐\n",
       "q_4: ┤ X ├─■─────┤ X ├\n",
       "     └───┘ │P(π) └───┘\n",
       "q_5: ──────■──────────\n",
       "                      </pre>"
      ],
      "text/plain": [
       "     ┌───┐       ┌───┐\n",
       "q_0: ┤ X ├─■─────┤ X ├\n",
       "     └───┘ │     └───┘\n",
       "q_1: ──────■──────────\n",
       "     ┌───┐ │     ┌───┐\n",
       "q_2: ┤ X ├─■─────┤ X ├\n",
       "     └───┘ │     └───┘\n",
       "q_3: ──────■──────────\n",
       "     ┌───┐ │     ┌───┐\n",
       "q_4: ┤ X ├─■─────┤ X ├\n",
       "     └───┘ │P(π) └───┘\n",
       "q_5: ──────■──────────\n",
       "                      "
      ]
     },
     "execution_count": 5,
     "metadata": {},
     "output_type": "execute_result"
    }
   ],
   "source": [
    "#Second solution: Verifies if input qubits are in state [0,1,0,1,0] == [7,9]\n",
    "#if so, applies a pi phase gate to the first ancilla qubit to obtain 00001 as output after the IQFT\n",
    "\n",
    "grover2 = QuantumCircuit(6, name='Solution_2')\n",
    "\n",
    "grover2.x(0)\n",
    "grover2.x(2)\n",
    "grover2.x(4)\n",
    "grover2.mcp(pi,[0,1,2,3,4],5)\n",
    "grover2.x(0)\n",
    "grover2.x(2)\n",
    "grover2.x(4)\n",
    "\n",
    "#create gate for checking this second solution\n",
    "controlled = grover2.to_instruction()\n",
    "grover2.draw()"
   ]
  },
  {
   "cell_type": "code",
   "execution_count": 6,
   "id": "3ee32e7d",
   "metadata": {},
   "outputs": [
    {
     "data": {
      "text/html": [
       "<pre style=\"word-wrap: normal;white-space: pre;background: #fff0;line-height: 1.1;font-family: &quot;Courier New&quot;,Courier,monospace\">     ┌───┐     ┌───┐\n",
       "q_0: ┤ X ├──■──┤ X ├\n",
       "     ├───┤  │  ├───┤\n",
       "q_1: ┤ X ├──■──┤ X ├\n",
       "     ├───┤  │  ├───┤\n",
       "q_2: ┤ X ├──■──┤ X ├\n",
       "     ├───┤  │  ├───┤\n",
       "q_3: ┤ X ├──■──┤ X ├\n",
       "     └───┘  │  └───┘\n",
       "q_4: ───────■───────\n",
       "          ┌─┴─┐     \n",
       "q_5: ─────┤ X ├─────\n",
       "          └───┘     </pre>"
      ],
      "text/plain": [
       "     ┌───┐     ┌───┐\n",
       "q_0: ┤ X ├──■──┤ X ├\n",
       "     ├───┤  │  ├───┤\n",
       "q_1: ┤ X ├──■──┤ X ├\n",
       "     ├───┤  │  ├───┤\n",
       "q_2: ┤ X ├──■──┤ X ├\n",
       "     ├───┤  │  ├───┤\n",
       "q_3: ┤ X ├──■──┤ X ├\n",
       "     └───┘  │  └───┘\n",
       "q_4: ───────■───────\n",
       "          ┌─┴─┐     \n",
       "q_5: ─────┤ X ├─────\n",
       "          └───┘     "
      ]
     },
     "execution_count": 6,
     "metadata": {},
     "output_type": "execute_result"
    }
   ],
   "source": [
    "# Gate that checks the result obtained after the IQFT. Shits the controlled qubit if value is 16 == [0,0,0,0,1] (little endian)\n",
    "#This will happen after applying the pi phase gate coming from either of the solutions\n",
    "\n",
    "grover3 = QuantumCircuit(6, name='checking')\n",
    "\n",
    "grover3.x(0)\n",
    "grover3.x(1)\n",
    "grover3.x(2)\n",
    "grover3.x(3)\n",
    "grover3.mct([0,1,2,3,4],5)\n",
    "grover3.x(0)\n",
    "grover3.x(1)\n",
    "grover3.x(2)\n",
    "grover3.x(3)\n",
    "\n",
    "#gate to check the value after the QFT - phase gate - IQFT to correspond to 16\n",
    "controlled_anc = grover3.to_instruction()\n",
    "grover3.draw()"
   ]
  },
  {
   "cell_type": "code",
   "execution_count": 7,
   "id": "c5439a0e",
   "metadata": {},
   "outputs": [],
   "source": [
    "def initialize_s(qc, qubits):\n",
    "    \"\"\"Apply an H-gate to 'qubits' in qc\"\"\"\n",
    "    for q in qubits:\n",
    "        qc.h(q)\n",
    "    return qc\n",
    "\n",
    "\n",
    "\n",
    "def oracle(grover):\n",
    "    \n",
    "    \"\"\"First Part of Grover's iteration. Oracle marks with a minus sign the solution states. \n",
    "    Equivalent to a reflection of the initial state around the state made of superpositions of non-solutions\"\"\"\n",
    "    \n",
    "    #Oracle implementation\n",
    "    \n",
    "    grover.append(qft_gate, [5,6,7,8,9])\n",
    "\n",
    "    grover.append(controlled1, [0,1,2,3,4,5])\n",
    "    \n",
    "    grover.append(controlled, [0,1,2,3,4,5])\n",
    "\n",
    "    grover.append(iqft_gate, [5,6,7,8,9])\n",
    "\n",
    "    grover.append(controlled_anc, [5,6,7,8,9,10])\n",
    "\n",
    "    #uncomputing oracle to return ancilla qubits to |00000> state for its use in grover's iteration\n",
    "    \n",
    "    grover.append(iqft_gate, [5,6,7,8,9])\n",
    "\n",
    "    grover.append(controlled, [0,1,2,3,4,5])\n",
    "    \n",
    "    grover.append(controlled1, [0,1,2,3,4,5])\n",
    "\n",
    "    grover.append(qft_gate, [5,6,7,8,9])\n",
    "    \n",
    "def diffuser(nqubits):\n",
    "    \n",
    "    \"\"\"Second part of Grover's algorithm. Performs reflection around equal superposition state of nqubits\n",
    "    In matrix notation: HX(MCZ)XH = U_s on n qubits\"\"\"\n",
    "    \n",
    "    qc = QuantumCircuit(nqubits)\n",
    "    # Apply transformation |s> -> |00..0> (H-gates)\n",
    "    for qubit in range(nqubits):\n",
    "        qc.h(qubit)\n",
    "    # Apply transformation |00..0> -> |11..1> (X-gates)\n",
    "    for qubit in range(nqubits):\n",
    "        qc.x(qubit)\n",
    "    # Do multi-controlled-Z gate\n",
    "    qc.h(nqubits-1)\n",
    "    qc.mct(list(range(nqubits-1)), nqubits-1)  # multi-controlled-toffoli\n",
    "    qc.h(nqubits-1)\n",
    "    # Apply transformation |11..1> -> |00..0>\n",
    "    for qubit in range(nqubits):\n",
    "        qc.x(qubit)\n",
    "    # Apply transformation |00..0> -> |s>\n",
    "    for qubit in range(nqubits):\n",
    "        qc.h(qubit)\n",
    "    # We will return the diffuser as a gate\n",
    "    U_s = qc.to_gate()\n",
    "    U_s.name = \"U$_s$\"\n",
    "    return U_s"
   ]
  },
  {
   "cell_type": "markdown",
   "id": "ebaf6db2",
   "metadata": {},
   "source": [
    "## Computations"
   ]
  },
  {
   "cell_type": "code",
   "execution_count": 10,
   "id": "34df2b4c",
   "metadata": {},
   "outputs": [
    {
     "data": {
      "text/html": [
       "<pre style=\"word-wrap: normal;white-space: pre;background: #fff0;line-height: 1.1;font-family: &quot;Courier New&quot;,Courier,monospace\">                      ┌───┐               ░         ┌─────────────┐┌─────────────┐                               ┌─────────────┐┌─────────────┐┌────────┐ ░         ┌─────────────┐┌─────────────┐                               ┌─────────────┐┌─────────────┐┌────────┐ ░         ┌─────────────┐┌─────────────┐                               ┌─────────────┐┌─────────────┐┌────────┐ ░ ┌─┐            \n",
       "    a_0: ─────────────┤ H ├───────────────░─────────┤0            ├┤0            ├───────────────────────────────┤0            ├┤0            ├┤0       ├─░─────────┤0            ├┤0            ├───────────────────────────────┤0            ├┤0            ├┤0       ├─░─────────┤0            ├┤0            ├───────────────────────────────┤0            ├┤0            ├┤0       ├─░─┤M├────────────\n",
       "                      ├───┤               ░         │             ││             │                               │             ││             ││        │ ░         │             ││             │                               │             ││             ││        │ ░         │             ││             │                               │             ││             ││        │ ░ └╥┘┌─┐         \n",
       "    a_1: ─────────────┤ H ├───────────────░─────────┤1            ├┤1            ├───────────────────────────────┤1            ├┤1            ├┤1       ├─░─────────┤1            ├┤1            ├───────────────────────────────┤1            ├┤1            ├┤1       ├─░─────────┤1            ├┤1            ├───────────────────────────────┤1            ├┤1            ├┤1       ├─░──╫─┤M├─────────\n",
       "                      ├───┤               ░         │             ││             │                               │             ││             ││        │ ░         │             ││             │                               │             ││             ││        │ ░         │             ││             │                               │             ││             ││        │ ░  ║ └╥┘┌─┐      \n",
       "    a_2: ─────────────┤ H ├───────────────░─────────┤2            ├┤2            ├───────────────────────────────┤2            ├┤2            ├┤2 U$_s$ ├─░─────────┤2            ├┤2            ├───────────────────────────────┤2            ├┤2            ├┤2 U$_s$ ├─░─────────┤2            ├┤2            ├───────────────────────────────┤2            ├┤2            ├┤2 U$_s$ ├─░──╫──╫─┤M├──────\n",
       "                      ├───┤               ░         │  Solution_1 ││  Solution_2 │                               │  Solution_2 ││  Solution_1 ││        │ ░         │  Solution_1 ││  Solution_2 │                               │  Solution_2 ││  Solution_1 ││        │ ░         │  Solution_1 ││  Solution_2 │                               │  Solution_2 ││  Solution_1 ││        │ ░  ║  ║ └╥┘┌─┐   \n",
       "    a_3: ─────────────┤ H ├───────────────░─────────┤3            ├┤3            ├───────────────────────────────┤3            ├┤3            ├┤3       ├─░─────────┤3            ├┤3            ├───────────────────────────────┤3            ├┤3            ├┤3       ├─░─────────┤3            ├┤3            ├───────────────────────────────┤3            ├┤3            ├┤3       ├─░──╫──╫──╫─┤M├───\n",
       "                      ├───┤               ░         │             ││             │                               │             ││             ││        │ ░         │             ││             │                               │             ││             ││        │ ░         │             ││             │                               │             ││             ││        │ ░  ║  ║  ║ └╥┘┌─┐\n",
       "    a_4: ─────────────┤ H ├───────────────░─────────┤4            ├┤4            ├───────────────────────────────┤4            ├┤4            ├┤4       ├─░─────────┤4            ├┤4            ├───────────────────────────────┤4            ├┤4            ├┤4       ├─░─────────┤4            ├┤4            ├───────────────────────────────┤4            ├┤4            ├┤4       ├─░──╫──╫──╫──╫─┤M├\n",
       "                      └───┘               ░ ┌──────┐│             ││             │┌───────┐┌───────────┐┌───────┐│             ││             │└┬──────┬┘ ░ ┌──────┐│             ││             │┌───────┐┌───────────┐┌───────┐│             ││             │└┬──────┬┘ ░ ┌──────┐│             ││             │┌───────┐┌───────────┐┌───────┐│             ││             │└┬──────┬┘ ░  ║  ║  ║  ║ └╥┘\n",
       "    b_0: ─────────────────────────────────░─┤0     ├┤5            ├┤5            ├┤0      ├┤0          ├┤0      ├┤5            ├┤5            ├─┤0     ├──░─┤0     ├┤5            ├┤5            ├┤0      ├┤0          ├┤0      ├┤5            ├┤5            ├─┤0     ├──░─┤0     ├┤5            ├┤5            ├┤0      ├┤0          ├┤0      ├┤5            ├┤5            ├─┤0     ├──░──╫──╫──╫──╫──╫─\n",
       "                                          ░ │      │└─────────────┘└─────────────┘│       ││           ││       │└─────────────┘└─────────────┘ │      │  ░ │      │└─────────────┘└─────────────┘│       ││           ││       │└─────────────┘└─────────────┘ │      │  ░ │      │└─────────────┘└─────────────┘│       ││           ││       │└─────────────┘└─────────────┘ │      │  ░  ║  ║  ║  ║  ║ \n",
       "    b_1: ─────────────────────────────────░─┤1     ├──────────────────────────────┤1      ├┤1          ├┤1      ├───────────────────────────────┤1     ├──░─┤1     ├──────────────────────────────┤1      ├┤1          ├┤1      ├───────────────────────────────┤1     ├──░─┤1     ├──────────────────────────────┤1      ├┤1          ├┤1      ├───────────────────────────────┤1     ├──░──╫──╫──╫──╫──╫─\n",
       "                                          ░ │      │                              │       ││           ││       │                               │      │  ░ │      │                              │       ││           ││       │                               │      │  ░ │      │                              │       ││           ││       │                               │      │  ░  ║  ║  ║  ║  ║ \n",
       "    b_2: ─────────────────────────────────░─┤2 qft ├──────────────────────────────┤2 iqft ├┤2          ├┤2 iqft ├───────────────────────────────┤2 qft ├──░─┤2 qft ├──────────────────────────────┤2 iqft ├┤2          ├┤2 iqft ├───────────────────────────────┤2 qft ├──░─┤2 qft ├──────────────────────────────┤2 iqft ├┤2          ├┤2 iqft ├───────────────────────────────┤2 qft ├──░──╫──╫──╫──╫──╫─\n",
       "                                          ░ │      │                              │       ││  checking ││       │                               │      │  ░ │      │                              │       ││  checking ││       │                               │      │  ░ │      │                              │       ││  checking ││       │                               │      │  ░  ║  ║  ║  ║  ║ \n",
       "    b_3: ─────────────────────────────────░─┤3     ├──────────────────────────────┤3      ├┤3          ├┤3      ├───────────────────────────────┤3     ├──░─┤3     ├──────────────────────────────┤3      ├┤3          ├┤3      ├───────────────────────────────┤3     ├──░─┤3     ├──────────────────────────────┤3      ├┤3          ├┤3      ├───────────────────────────────┤3     ├──░──╫──╫──╫──╫──╫─\n",
       "                                          ░ │      │                              │       ││           ││       │                               │      │  ░ │      │                              │       ││           ││       │                               │      │  ░ │      │                              │       ││           ││       │                               │      │  ░  ║  ║  ║  ║  ║ \n",
       "    b_4: ─────────────────────────────────░─┤4     ├──────────────────────────────┤4      ├┤4          ├┤4      ├───────────────────────────────┤4     ├──░─┤4     ├──────────────────────────────┤4      ├┤4          ├┤4      ├───────────────────────────────┤4     ├──░─┤4     ├──────────────────────────────┤4      ├┤4          ├┤4      ├───────────────────────────────┤4     ├──░──╫──╫──╫──╫──╫─\n",
       "         ┌──────────────────────────────┐ ░ └──────┘                              └───────┘│           │└───────┘                               └──────┘  ░ └──────┘                              └───────┘│           │└───────┘                               └──────┘  ░ └──────┘                              └───────┘│           │└───────┘                               └──────┘  ░  ║  ║  ║  ║  ║ \n",
       "    out: ┤ Initialize(0.70711,-0.70711) ├─░────────────────────────────────────────────────┤5          ├──────────────────────────────────────────────────░────────────────────────────────────────────────┤5          ├──────────────────────────────────────────────────░────────────────────────────────────────────────┤5          ├──────────────────────────────────────────────────░──╫──╫──╫──╫──╫─\n",
       "         └──────────────────────────────┘ ░                                                └───────────┘                                                  ░                                                └───────────┘                                                  ░                                                └───────────┘                                                  ░  ║  ║  ║  ║  ║ \n",
       "cbits: 5/════════════════════════════════════════════════════════════════════════════════════════════════════════════════════════════════════════════════════════════════════════════════════════════════════════════════════════════════════════════════════════════════════════════════════════════════════════════════════════════════════════════════════════════════════════════════════╩══╩══╩══╩══╩═\n",
       "                                                                                                                                                                                                                                                                                                                                                                                             0  1  2  3  4 </pre>"
      ],
      "text/plain": [
       "                      ┌───┐               ░         ┌─────────────┐┌─────────────┐                               ┌─────────────┐┌─────────────┐┌────────┐ ░         ┌─────────────┐┌─────────────┐                               ┌─────────────┐┌─────────────┐┌────────┐ ░         ┌─────────────┐┌─────────────┐                               ┌─────────────┐┌─────────────┐┌────────┐ ░ ┌─┐            \n",
       "    a_0: ─────────────┤ H ├───────────────░─────────┤0            ├┤0            ├───────────────────────────────┤0            ├┤0            ├┤0       ├─░─────────┤0            ├┤0            ├───────────────────────────────┤0            ├┤0            ├┤0       ├─░─────────┤0            ├┤0            ├───────────────────────────────┤0            ├┤0            ├┤0       ├─░─┤M├────────────\n",
       "                      ├───┤               ░         │             ││             │                               │             ││             ││        │ ░         │             ││             │                               │             ││             ││        │ ░         │             ││             │                               │             ││             ││        │ ░ └╥┘┌─┐         \n",
       "    a_1: ─────────────┤ H ├───────────────░─────────┤1            ├┤1            ├───────────────────────────────┤1            ├┤1            ├┤1       ├─░─────────┤1            ├┤1            ├───────────────────────────────┤1            ├┤1            ├┤1       ├─░─────────┤1            ├┤1            ├───────────────────────────────┤1            ├┤1            ├┤1       ├─░──╫─┤M├─────────\n",
       "                      ├───┤               ░         │             ││             │                               │             ││             ││        │ ░         │             ││             │                               │             ││             ││        │ ░         │             ││             │                               │             ││             ││        │ ░  ║ └╥┘┌─┐      \n",
       "    a_2: ─────────────┤ H ├───────────────░─────────┤2            ├┤2            ├───────────────────────────────┤2            ├┤2            ├┤2 U$_s$ ├─░─────────┤2            ├┤2            ├───────────────────────────────┤2            ├┤2            ├┤2 U$_s$ ├─░─────────┤2            ├┤2            ├───────────────────────────────┤2            ├┤2            ├┤2 U$_s$ ├─░──╫──╫─┤M├──────\n",
       "                      ├───┤               ░         │  Solution_1 ││  Solution_2 │                               │  Solution_2 ││  Solution_1 ││        │ ░         │  Solution_1 ││  Solution_2 │                               │  Solution_2 ││  Solution_1 ││        │ ░         │  Solution_1 ││  Solution_2 │                               │  Solution_2 ││  Solution_1 ││        │ ░  ║  ║ └╥┘┌─┐   \n",
       "    a_3: ─────────────┤ H ├───────────────░─────────┤3            ├┤3            ├───────────────────────────────┤3            ├┤3            ├┤3       ├─░─────────┤3            ├┤3            ├───────────────────────────────┤3            ├┤3            ├┤3       ├─░─────────┤3            ├┤3            ├───────────────────────────────┤3            ├┤3            ├┤3       ├─░──╫──╫──╫─┤M├───\n",
       "                      ├───┤               ░         │             ││             │                               │             ││             ││        │ ░         │             ││             │                               │             ││             ││        │ ░         │             ││             │                               │             ││             ││        │ ░  ║  ║  ║ └╥┘┌─┐\n",
       "    a_4: ─────────────┤ H ├───────────────░─────────┤4            ├┤4            ├───────────────────────────────┤4            ├┤4            ├┤4       ├─░─────────┤4            ├┤4            ├───────────────────────────────┤4            ├┤4            ├┤4       ├─░─────────┤4            ├┤4            ├───────────────────────────────┤4            ├┤4            ├┤4       ├─░──╫──╫──╫──╫─┤M├\n",
       "                      └───┘               ░ ┌──────┐│             ││             │┌───────┐┌───────────┐┌───────┐│             ││             │└┬──────┬┘ ░ ┌──────┐│             ││             │┌───────┐┌───────────┐┌───────┐│             ││             │└┬──────┬┘ ░ ┌──────┐│             ││             │┌───────┐┌───────────┐┌───────┐│             ││             │└┬──────┬┘ ░  ║  ║  ║  ║ └╥┘\n",
       "    b_0: ─────────────────────────────────░─┤0     ├┤5            ├┤5            ├┤0      ├┤0          ├┤0      ├┤5            ├┤5            ├─┤0     ├──░─┤0     ├┤5            ├┤5            ├┤0      ├┤0          ├┤0      ├┤5            ├┤5            ├─┤0     ├──░─┤0     ├┤5            ├┤5            ├┤0      ├┤0          ├┤0      ├┤5            ├┤5            ├─┤0     ├──░──╫──╫──╫──╫──╫─\n",
       "                                          ░ │      │└─────────────┘└─────────────┘│       ││           ││       │└─────────────┘└─────────────┘ │      │  ░ │      │└─────────────┘└─────────────┘│       ││           ││       │└─────────────┘└─────────────┘ │      │  ░ │      │└─────────────┘└─────────────┘│       ││           ││       │└─────────────┘└─────────────┘ │      │  ░  ║  ║  ║  ║  ║ \n",
       "    b_1: ─────────────────────────────────░─┤1     ├──────────────────────────────┤1      ├┤1          ├┤1      ├───────────────────────────────┤1     ├──░─┤1     ├──────────────────────────────┤1      ├┤1          ├┤1      ├───────────────────────────────┤1     ├──░─┤1     ├──────────────────────────────┤1      ├┤1          ├┤1      ├───────────────────────────────┤1     ├──░──╫──╫──╫──╫──╫─\n",
       "                                          ░ │      │                              │       ││           ││       │                               │      │  ░ │      │                              │       ││           ││       │                               │      │  ░ │      │                              │       ││           ││       │                               │      │  ░  ║  ║  ║  ║  ║ \n",
       "    b_2: ─────────────────────────────────░─┤2 qft ├──────────────────────────────┤2 iqft ├┤2          ├┤2 iqft ├───────────────────────────────┤2 qft ├──░─┤2 qft ├──────────────────────────────┤2 iqft ├┤2          ├┤2 iqft ├───────────────────────────────┤2 qft ├──░─┤2 qft ├──────────────────────────────┤2 iqft ├┤2          ├┤2 iqft ├───────────────────────────────┤2 qft ├──░──╫──╫──╫──╫──╫─\n",
       "                                          ░ │      │                              │       ││  checking ││       │                               │      │  ░ │      │                              │       ││  checking ││       │                               │      │  ░ │      │                              │       ││  checking ││       │                               │      │  ░  ║  ║  ║  ║  ║ \n",
       "    b_3: ─────────────────────────────────░─┤3     ├──────────────────────────────┤3      ├┤3          ├┤3      ├───────────────────────────────┤3     ├──░─┤3     ├──────────────────────────────┤3      ├┤3          ├┤3      ├───────────────────────────────┤3     ├──░─┤3     ├──────────────────────────────┤3      ├┤3          ├┤3      ├───────────────────────────────┤3     ├──░──╫──╫──╫──╫──╫─\n",
       "                                          ░ │      │                              │       ││           ││       │                               │      │  ░ │      │                              │       ││           ││       │                               │      │  ░ │      │                              │       ││           ││       │                               │      │  ░  ║  ║  ║  ║  ║ \n",
       "    b_4: ─────────────────────────────────░─┤4     ├──────────────────────────────┤4      ├┤4          ├┤4      ├───────────────────────────────┤4     ├──░─┤4     ├──────────────────────────────┤4      ├┤4          ├┤4      ├───────────────────────────────┤4     ├──░─┤4     ├──────────────────────────────┤4      ├┤4          ├┤4      ├───────────────────────────────┤4     ├──░──╫──╫──╫──╫──╫─\n",
       "         ┌──────────────────────────────┐ ░ └──────┘                              └───────┘│           │└───────┘                               └──────┘  ░ └──────┘                              └───────┘│           │└───────┘                               └──────┘  ░ └──────┘                              └───────┘│           │└───────┘                               └──────┘  ░  ║  ║  ║  ║  ║ \n",
       "    out: ┤ Initialize(0.70711,-0.70711) ├─░────────────────────────────────────────────────┤5          ├──────────────────────────────────────────────────░────────────────────────────────────────────────┤5          ├──────────────────────────────────────────────────░────────────────────────────────────────────────┤5          ├──────────────────────────────────────────────────░──╫──╫──╫──╫──╫─\n",
       "         └──────────────────────────────┘ ░                                                └───────────┘                                                  ░                                                └───────────┘                                                  ░                                                └───────────┘                                                  ░  ║  ║  ║  ║  ║ \n",
       "cbits: 5/════════════════════════════════════════════════════════════════════════════════════════════════════════════════════════════════════════════════════════════════════════════════════════════════════════════════════════════════════════════════════════════════════════════════════════════════════════════════════════════════════════════════════════════════════════════════════╩══╩══╩══╩══╩═\n",
       "                                                                                                                                                                                                                                                                                                                                                                                             0  1  2  3  4 "
      ]
     },
     "execution_count": 10,
     "metadata": {},
     "output_type": "execute_result"
    }
   ],
   "source": [
    "arr = QuantumRegister(5,name='a') #qubits associated to the input vector\n",
    "ancilla = QuantumRegister(5,name='b') #ancilla qubits for oracle\n",
    "out = QuantumRegister(1,name='out') #output ancilla qubit of oracle that helps mark the solutions\n",
    "cbits = ClassicalRegister(5, name='cbits') #classical bits for final measurement\n",
    "\n",
    "grover = QuantumCircuit(arr,ancilla,out,cbits)\n",
    "\n",
    "# Initialize 'out' in state |->\n",
    "grover.initialize([1, -1]/np.sqrt(2), out)\n",
    "\n",
    "#initialize 'arr' in equal superposition\n",
    "grover = initialize_s(grover, [0,1,2,3,4]) \n",
    "\n",
    "grover.barrier()  # for visual separation\n",
    "\n",
    "#r == number of iterations. The expected #iterations needed to obtain at least one of the solutions with high\n",
    "# probability is pi/4 * sqrt(N/M). r = \\bigO(sqrt(M/N)) oracle calls needed.\n",
    "#N := #elements of search space = 2^n \n",
    "#n := #of elements in array (#qubits)\n",
    "#M = #of solutions. \n",
    "#Here M = 2 and N = 32 => r = pi. \n",
    "\n",
    "r = 3\n",
    "\n",
    "for i in range(r):\n",
    "    oracle(grover) #oracle\n",
    "    grover.append(diffuser(5), [0,1,2,3,4]) #diffuser \n",
    "    grover.barrier()  # for visual separation\n",
    "\n",
    "\n",
    "# Measure the 'arr' qubits in computational basis and store results in classical bits 'cbits'\n",
    "grover.measure(arr, cbits)\n",
    "\n",
    "#Display circuit in one line\n",
    "grover.draw(fold=-1)"
   ]
  },
  {
   "cell_type": "code",
   "execution_count": 26,
   "id": "78366baa",
   "metadata": {},
   "outputs": [
    {
     "data": {
      "image/png": "[encoded data removed]",
      "text/plain": [
       "<Figure size 864x432 with 1 Axes>"
      ]
     },
     "execution_count": 26,
     "metadata": {},
     "output_type": "execute_result"
    }
   ],
   "source": [
    "backend = BasicAer.get_backend('qasm_simulator')\n",
    "job = execute(grover, backend)\n",
    "plot_histogram(job.result().get_counts(),figsize=(12, 6), color='midnightblue', title=\"Solutions to Grover Search \")\n",
    "# add filename='./Probabilities.jpg' to save graph"
   ]
  },
  {
   "cell_type": "markdown",
   "id": "1eca3e30",
   "metadata": {},
   "source": [
    "## Solution:\n",
    "\n",
    "The grover search correctly outputs the two solutions [01010] == [7,9] and [01101] == [7,8,1] that add up to 16.\n",
    "\n",
    "For this particular scenario, the solutions could be classically calculated and verified, thus the oracle was implemented in this specific way. In order to generalize this solution, the oracle would have to be built differenlty. Nonetheless, the use of controlled phase gates together with QFT and IQFT (inspired by the Adder circuit) can be leveraged to perform this search generally for any input array of numbers and desired integer output."
   ]
  },
  {
   "cell_type": "markdown",
   "id": "225950b6",
   "metadata": {},
   "source": [
    "References:\n",
    "\n",
    "- Quantum Computation and Quantum Information, Michael A. Nielsen, Isaac L. Chuang, Massachusetts Institute of Technology, 2010\n",
    "- Addition on a Quantum Computer, Thomas G. Draper, June 15, 2000. (https://arxiv.org/pdf/quant-ph/0008033.pdf)\n",
    "- https://qiskit.org/textbook/ch-algorithms/grover.html#5.2-Uncomputing,-and-Completing-the-Oracle\n",
    "- https://qiskit.org/textbook/ch-algorithms/quantum-fourier-transform.html"
   ]
  },
  {
   "cell_type": "code",
   "execution_count": null,
   "id": "15111777",
   "metadata": {},
   "outputs": [],
   "source": []
  }
 ],
 "metadata": {
  "kernelspec": {
   "display_name": "Python (QUANTUM_CODE)",
   "language": "python",
   "name": "quantum_code"
  },
  "language_info": {
   "codemirror_mode": {
    "name": "ipython",
    "version": 3
   },
   "file_extension": ".py",
   "mimetype": "text/x-python",
   "name": "python",
   "nbconvert_exporter": "python",
   "pygments_lexer": "ipython3",
   "version": "3.10.0"
  }
 },
 "nbformat": 4,
 "nbformat_minor": 5
}
